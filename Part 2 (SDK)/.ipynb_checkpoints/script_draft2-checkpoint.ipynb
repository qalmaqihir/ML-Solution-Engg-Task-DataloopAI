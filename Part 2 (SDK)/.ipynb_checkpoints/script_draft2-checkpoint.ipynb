{
 "cells": [
  {
   "cell_type": "markdown",
   "metadata": {},
   "source": [
    "# Import libraries\n",
    "> The side experiments are in h2 while the actual working codes/steps are in h1"
   ]
  },
  {
   "cell_type": "code",
   "execution_count": 1,
   "metadata": {},
   "outputs": [],
   "source": [
    "import datetime\n",
    "import os\n",
    "import json\n",
    "import dtlpy as dl\n"
   ]
  },
  {
   "cell_type": "markdown",
   "metadata": {},
   "source": [
    "# Step 1: Login to Dataloop"
   ]
  },
  {
   "cell_type": "code",
   "execution_count": 2,
   "metadata": {},
   "outputs": [
    {
     "name": "stdout",
     "output_type": "stream",
     "text": [
      "Logging in to Dataloop...\n"
     ]
    },
    {
     "name": "stderr",
     "output_type": "stream",
     "text": [
      "libva error: vaGetDriverNameByIndex() failed with unknown libva error, driver_name = (null)\n"
     ]
    },
    {
     "name": "stdout",
     "output_type": "stream",
     "text": [
      "Opening in existing browser session.\n",
      "Login successful!\n",
      "------------------------------------------------------------------------------------------\n"
     ]
    }
   ],
   "source": [
    "# # Load credentials from environment variables\n",
    "# email = os.environ.get(\"DATALOOP_EMAIL\")\n",
    "# password = os.environ.get(\"DATALOOP_PASSWORD\")\n",
    "\n",
    "# # Check if credentials are set\n",
    "# if not email or not password:\n",
    "#     print(\"Error: DATALOOP_EMAIL and DATALOOP_PASSWORD environment variables are not set.\")\n",
    "#     exit(1)\n",
    "\n",
    "\n",
    "# get the credentials\n",
    "with open('config.json') as config_file:\n",
    "    config = json.load(config_file)\n",
    "\n",
    "email = config[\"dataloop_email\"]\n",
    "password = config[\"dataloop_password\"]\n",
    "\n",
    "# Step 1: Login to Dataloop\n",
    "print(\"Logging in to Dataloop...\")\n",
    "dl.login(email, password)\n",
    "print(f\"Login successful!\\n{'--'*45}\")\n",
    "\n"
   ]
  },
  {
   "cell_type": "markdown",
   "metadata": {},
   "source": [
    "# Step 2: Create a new dataset (or get an existing one)  "
   ]
  },
  {
   "cell_type": "code",
   "execution_count": 3,
   "metadata": {},
   "outputs": [
    {
     "name": "stdout",
     "output_type": "stream",
     "text": [
      "Creating dataset 'demo_SDK_dataset_finaltest' in project 'demo_SDK_finaltest'...\n",
      "Creating project 'demo_SDK_finaltest'successfully!\n",
      "---------------------------------------- ...\n",
      "Dataset 'demo_SDK_dataset_finaltest' created successfully!\n",
      "----------------------------------------\n"
     ]
    }
   ],
   "source": [
    "\n",
    "# Step 2: Create a new dataset (or get an existing one)  \n",
    "project_name = \"demo_SDK_finaltest\"\n",
    "dataset_name = \"demo_SDK_dataset_finaltest\"\n",
    "\n",
    "print(f\"Creating dataset '{dataset_name}' in project '{project_name}'...\")\n",
    "project = dl.projects.create(project_name=project_name)\n",
    "print(f\"Creating project '{project_name}'successfully!\\n{'--'*20} ...\")\n",
    "\n",
    "try:\n",
    "    dataset = project.datasets.create(dataset_name=dataset_name)\n",
    "    print(f\"Dataset '{dataset_name}' created successfully!\\n{'--'*20}\")\n",
    "except dl.exceptions.ExistingDataset:\n",
    "    dataset = project.datasets.get(dataset_name=dataset_name)\n",
    "    print(f\"Dataset '{dataset_name}' already exists. Getting the existing dataset...\")\n",
    "\n"
   ]
  },
  {
   "cell_type": "code",
   "execution_count": 4,
   "metadata": {},
   "outputs": [],
   "source": [
    "project = dl.projects.get(project_name=project_name)\n",
    "# project = dl.projects.get(project_id='e4a5e5b3-a22a-4b59-9b76-30417a0859d9')"
   ]
  },
  {
   "cell_type": "code",
   "execution_count": 5,
   "metadata": {},
   "outputs": [],
   "source": [
    "dataset = project.datasets.get(dataset_name=dataset_name)"
   ]
  },
  {
   "cell_type": "code",
   "execution_count": 6,
   "metadata": {},
   "outputs": [],
   "source": [
    "# try:\n",
    "#     dataset = project.datasets.get(dataset_name=dataset)\n",
    "# except:\n",
    "#     dtlpy.exceptions.NotFound: ('404', \"Dataset not found. Name: 'dataset'\")"
   ]
  },
  {
   "cell_type": "markdown",
   "metadata": {},
   "source": [
    "# Step 3: Add labels to the dataset recipe"
   ]
  },
  {
   "cell_type": "code",
   "execution_count": 7,
   "metadata": {},
   "outputs": [
    {
     "name": "stdout",
     "output_type": "stream",
     "text": [
      "Adding labels to the dataset recipe: ['1', '2', '3', 'top', 'bottom']\n",
      "Labels added successfully!\n",
      "----------------------------------------\n"
     ]
    }
   ],
   "source": [
    "# Step 3: Add labels to the dataset recipe\n",
    "labels_to_add = [\"1\", \"2\", \"3\", \"top\", \"bottom\"]\n",
    "print(f\"Adding labels to the dataset recipe: {labels_to_add}\")\n",
    "dataset.add_labels(labels_to_add)\n",
    "print(f\"Labels added successfully!\\n{'--'*20}\")\n"
   ]
  },
  {
   "cell_type": "code",
   "execution_count": null,
   "metadata": {},
   "outputs": [],
   "source": []
  },
  {
   "cell_type": "markdown",
   "metadata": {},
   "source": [
    "# Step 4: Upload images"
   ]
  },
  {
   "cell_type": "code",
   "execution_count": 8,
   "metadata": {},
   "outputs": [
    {
     "name": "stdout",
     "output_type": "stream",
     "text": [
      "Uploading images from './'...\n",
      "Upload Items: 100%|███████████████████████████████| 1/1 [00:01<00:00,  1.52s/it]\n",
      "Uploaded 2.jpg\n",
      "Upload Items: 100%|███████████████████████████████| 1/1 [00:00<00:00,  1.97it/s]\n",
      "Uploaded 3.jpg\n",
      "Upload Items: 100%|███████████████████████████████| 1/1 [00:00<00:00,  1.98it/s]\n",
      "Uploaded 1.jpg\n",
      "Image upload completed!\n",
      "----------------------------------------\n"
     ]
    }
   ],
   "source": [
    "\n",
    "# Step 4: Upload images\n",
    "image_dir = \"./\" \n",
    "\n",
    "print(f\"Uploading images from '{image_dir}'...\")\n",
    "for filename in os.listdir(image_dir):\n",
    "    if filename.endswith(\".jpg\"):\n",
    "        local_path = os.path.join(image_dir, filename)\n",
    "        dataset.items.upload(local_path=local_path)\n",
    "        print(f\"Uploaded {filename}\")\n",
    "\n",
    "print(f\"Image upload completed!\\n{'--'*20}\")\n",
    "\n"
   ]
  },
  {
   "cell_type": "markdown",
   "metadata": {},
   "source": [
    "# Step 5: Add UTM metadata to items"
   ]
  },
  {
   "cell_type": "code",
   "execution_count": 9,
   "metadata": {},
   "outputs": [
    {
     "name": "stdout",
     "output_type": "stream",
     "text": [
      "Adding UTM metadata to items...\n",
      "Iterate Entity: 100%|█████████████████████████████| 3/3 [00:01<00:00,  2.11it/s]\n",
      "Metadata added to items!\n",
      "----------------------------------------\n"
     ]
    }
   ],
   "source": [
    "# Step 5: Add UTM metadata to items\n",
    "current_time = datetime.datetime.utcnow().isoformat()\n",
    "metadata = {\"collected\": current_time}\n",
    "print(\"Adding UTM metadata to items...\")\n",
    "for item in dataset.items.list().all():\n",
    "    item.metadata[\"user\"] = metadata\n",
    "    item.update()\n",
    "print(f\"Metadata added to items!\\n{'--'*20}\")\n"
   ]
  },
  {
   "cell_type": "code",
   "execution_count": 10,
   "metadata": {},
   "outputs": [],
   "source": [
    "\n",
    "# # Step 6: Upload annotations from JSON file\n",
    "# annotations_file = \"./ML Solution Engineering Home Assignment.json\" \n",
    "\n",
    "# print(f\"Uploading annotations from '{annotations_file}'...\")\n",
    "# with open(annotations_file, \"r\") as json_file:\n",
    "#     annotations_data = json.load(json_file)\n",
    "\n",
    "# print(annotations_data)\n",
    "# # for annotation in annotations_data:\n",
    "# #     label_name = annotation[\"Label name\"]\n",
    "# #     annotation_type = annotation[\"Annotation type\"]\n",
    "# #     annotation_info = annotation[\"Annotation information\"]\n",
    "# #     confidence = annotation[\"confidence\"]\n",
    "\n",
    "# #     # Create the annotation\n",
    "# #     annotation_definition = dl.Classification(\n",
    "# #         label=label_name,\n",
    "# #         type=annotation_type,\n",
    "# #         confidence=confidence,\n",
    "# #         model_info=annotation_info,\n",
    "# #     )\n",
    "\n",
    "# #     # Upload the annotation to the corresponding item\n",
    "# #     item = dataset.items.get(item_id=annotation[\"Item ID\"])\n",
    "# #     builder = item.annotations.builder()\n",
    "# #     builder.add(annotation_definition=annotation_definition)\n",
    "# #     item.annotations.upload(builder)\n",
    "\n",
    "# # print(f\"Annotations uploaded successfully!\\n{'--'*20}\")\n",
    "\n",
    "\n",
    "# for item_name, annotations in annotations_data.items():\n",
    "#     for annotation in annotations:\n",
    "#         label_name = annotation['label']\n",
    "#         confidence = annotation['confidence']\n",
    "        \n",
    "#         if 'box' in annotation:\n",
    "#             annotation_type = 'box'\n",
    "#             annotation_info = annotation['box']\n",
    "#         elif 'point' in annotation:\n",
    "#             annotation_type = 'point'\n",
    "#             annotation_info = annotation['point']\n",
    "#         elif 'polygon' in annotation:\n",
    "#             annotation_type = 'polygon'\n",
    "#             annotation_info = annotation['polygon']\n",
    "#         else:\n",
    "#             print(f\"Skipping annotation for item '{item_name}' with unsupported type.\")\n",
    "#             continue\n",
    "        \n",
    "#         print(f\"Successfully got the annotations for {item_name}:\\nDetials are as below:\\n Label Name: {label_name}\\nConfidence: {confidence}\\n\\\n",
    "#               Annotation Type: {annotation_type}\\nAnnotation Info: {annotation_info}\\n\\n\")\n",
    "        \n",
    "\n",
    "#         item = dataset.items.get(filepath='images/'+item_name)\n",
    "        \n",
    "#         if annotation_type == \"box\":\n",
    "#             annotation_definition = dl.Box(label=label_name, points=annotation_info)\n",
    "#         elif annotation_type == \"point\":\n",
    "#             annotation_definition = dl.Point(label=label_name, value=annotation_info)\n",
    "#         elif annotation_type == \"polygon\":\n",
    "#             annotation_definition = dl.Polygon(label=label_name, points=annotation_info)\n",
    "\n",
    "#         builder = item.annotations.builder()\n",
    "#         builder.add(annotation_definition=annotation_definition)\n",
    "#         item.annotations.upload(builder)\n",
    "\n",
    "#     print(\"Annotation added, moving to next one\")\n",
    "\n",
    "# print(f\"Annotations uploaded successfully!\\n{'--'*20}\")\n"
   ]
  },
  {
   "cell_type": "markdown",
   "metadata": {},
   "source": [
    "## Checking the item Obj"
   ]
  },
  {
   "cell_type": "code",
   "execution_count": 11,
   "metadata": {},
   "outputs": [
    {
     "name": "stdout",
     "output_type": "stream",
     "text": [
      "Iterate Entity: 100%|█████████████████████████████| 3/3 [00:00<00:00,  8.82it/s]\n"
     ]
    }
   ],
   "source": [
    "item = dataset.items.get_all_items()"
   ]
  },
  {
   "cell_type": "code",
   "execution_count": 15,
   "metadata": {},
   "outputs": [],
   "source": [
    "# item.print(columns=['metadata])\n",
    "# item.print()"
   ]
  },
  {
   "cell_type": "markdown",
   "metadata": {},
   "source": [
    "\n",
    "# Step 6: Upload annotations from JSON file"
   ]
  },
  {
   "cell_type": "code",
   "execution_count": 16,
   "metadata": {
    "scrolled": false
   },
   "outputs": [
    {
     "name": "stdout",
     "output_type": "stream",
     "text": [
      "Uploading annotations from './ML Solution Engineering Home Assignment.json'...\n",
      "Successfully got the annotations for 1.jpg:\n",
      "Details are as below:\n",
      " Label Name: 1\n",
      "Confidence: 0.98\n",
      "              Annotation Type: box\n",
      "Annotation Info: [{'x': 149.18225016336004, 'y': 115.85979769120996}, {'x': 201.38132392263813, 'y': 201.75386042385915}]\n",
      "\n",
      "\n",
      "Successfully got the annotations for 1.jpg:\n",
      "Details are as below:\n",
      " Label Name: bottom\n",
      "Confidence: 0.85\n",
      "              Annotation Type: point\n",
      "Annotation Info: {'x': 173.6123972734067, 'y': 201.27956683881678}\n",
      "\n",
      "\n",
      "Successfully got the annotations for 1.jpg:\n",
      "Details are as below:\n",
      " Label Name: top\n",
      "Confidence: 0.97\n",
      "              Annotation Type: point\n",
      "Annotation Info: {'x': 174.66143334966824, 'y': 116.00264757387058}\n",
      "\n",
      "\n",
      "Successfully got the annotations for 1.jpg:\n",
      "Details are as below:\n",
      " Label Name: 1\n",
      "Confidence: 0.82\n",
      "              Annotation Type: polygon\n",
      "Annotation Info: [[{'x': 172, 'y': 117}, {'x': 171, 'y': 117}, {'x': 171, 'y': 118}, {'x': 169, 'y': 118}, {'x': 169, 'y': 119}, {'x': 167, 'y': 119}, {'x': 167, 'y': 120}, {'x': 166, 'y': 120}, {'x': 166, 'y': 121}, {'x': 164, 'y': 121}, {'x': 164, 'y': 122}, {'x': 162, 'y': 122}, {'x': 162, 'y': 123}, {'x': 161, 'y': 123}, {'x': 161, 'y': 124}, {'x': 160, 'y': 124}, {'x': 160, 'y': 125}, {'x': 158, 'y': 125}, {'x': 158, 'y': 126}, {'x': 156, 'y': 126}, {'x': 156, 'y': 127}, {'x': 155, 'y': 127}, {'x': 155, 'y': 128}, {'x': 153, 'y': 128}, {'x': 153, 'y': 129}, {'x': 152, 'y': 129}, {'x': 152, 'y': 130}, {'x': 150, 'y': 130}, {'x': 150, 'y': 141}, {'x': 151, 'y': 141}, {'x': 151, 'y': 142}, {'x': 153, 'y': 142}, {'x': 153, 'y': 141}, {'x': 155, 'y': 141}, {'x': 155, 'y': 140}, {'x': 157, 'y': 140}, {'x': 157, 'y': 139}, {'x': 159, 'y': 139}, {'x': 159, 'y': 138}, {'x': 161, 'y': 138}, {'x': 161, 'y': 137}, {'x': 163, 'y': 137}, {'x': 163, 'y': 136}, {'x': 165, 'y': 136}, {'x': 165, 'y': 135}, {'x': 168, 'y': 135}, {'x': 168, 'y': 188}, {'x': 151, 'y': 188}, {'x': 151, 'y': 190}, {'x': 150, 'y': 190}, {'x': 150, 'y': 200}, {'x': 151, 'y': 200}, {'x': 151, 'y': 201}, {'x': 200, 'y': 201}, {'x': 200, 'y': 199}, {'x': 201, 'y': 199}, {'x': 201, 'y': 190}, {'x': 200, 'y': 190}, {'x': 200, 'y': 188}, {'x': 185, 'y': 188}, {'x': 185, 'y': 119}, {'x': 184, 'y': 119}, {'x': 184, 'y': 118}, {'x': 183, 'y': 118}, {'x': 183, 'y': 117}, {'x': 173, 'y': 117}]]\n",
      "\n",
      "\n",
      "Annotations added, moving to the next one\n",
      "Checking the plot\n",
      "Successfully got the annotations for 2.jpg:\n",
      "Details are as below:\n",
      " Label Name: 2\n",
      "Confidence: 0.96\n",
      "              Annotation Type: box\n",
      "Annotation Info: [{'x': 149.18225016336004, 'y': 115.85979769120996}, {'x': 201.38132392263813, 'y': 201.75386042385915}]\n",
      "\n",
      "\n",
      "Annotations added, moving to the next one\n",
      "Checking the plot\n",
      "Successfully got the annotations for 3.jpg:\n",
      "Details are as below:\n",
      " Label Name: top\n",
      "Confidence: 0.72\n",
      "              Annotation Type: point\n",
      "Annotation Info: {'x': 173.6123972734067, 'y': 201.27956683881678}\n",
      "\n",
      "\n",
      "Successfully got the annotations for 3.jpg:\n",
      "Details are as below:\n",
      " Label Name: bottom\n",
      "Confidence: 0.92\n",
      "              Annotation Type: point\n",
      "Annotation Info: {'x': 123.74583031836863, 'y': 162.94832356737442}\n",
      "\n",
      "\n",
      "Annotations added, moving to the next one\n",
      "Checking the plot\n",
      "Annotations uploaded successfully!\n",
      "----------------------------------------\n"
     ]
    },
    {
     "data": {
      "image/png": "[encoded data removed]",
      "text/plain": [
       "<Figure size 640x480 with 1 Axes>"
      ]
     },
     "metadata": {},
     "output_type": "display_data"
    },
    {
     "data": {
      "image/png": "[encoded data removed]",
      "text/plain": [
       "<Figure size 640x480 with 1 Axes>"
      ]
     },
     "metadata": {},
     "output_type": "display_data"
    },
    {
     "data": {
      "image/png": "[encoded data removed]",
      "text/plain": [
       "<Figure size 640x480 with 1 Axes>"
      ]
     },
     "metadata": {},
     "output_type": "display_data"
    },
    {
     "data": {
      "image/png": "[encoded data removed]",
      "text/plain": [
       "<Figure size 640x480 with 1 Axes>"
      ]
     },
     "metadata": {},
     "output_type": "display_data"
    },
    {
     "data": {
      "image/png": "[encoded data removed]",
      "text/plain": [
       "<Figure size 640x480 with 1 Axes>"
      ]
     },
     "metadata": {},
     "output_type": "display_data"
    },
    {
     "data": {
      "image/png": "[encoded data removed]",
      "text/plain": [
       "<Figure size 640x480 with 1 Axes>"
      ]
     },
     "metadata": {},
     "output_type": "display_data"
    }
   ],
   "source": [
    "\n",
    "# Step 6: Upload annotations from JSON file\n",
    "annotations_file = \"./ML Solution Engineering Home Assignment.json\"\n",
    "\n",
    "print(f\"Uploading annotations from '{annotations_file}'...\")\n",
    "with open(annotations_file, \"r\") as json_file:\n",
    "    annotations_data = json.load(json_file)\n",
    "\n",
    "for item_name, annotations in annotations_data.items():\n",
    "    for annotation in annotations:\n",
    "        label_name = annotation['label']\n",
    "        confidence = annotation['confidence']\n",
    "\n",
    "        if 'box' in annotation:\n",
    "            annotation_type = 'box'\n",
    "            annotation_info = annotation['box']\n",
    "        elif 'point' in annotation:\n",
    "            annotation_type = 'point'\n",
    "            annotation_info = annotation['point']\n",
    "        elif 'polygon' in annotation:\n",
    "            annotation_type = 'polygon'\n",
    "            annotation_info = annotation['polygon']\n",
    "        else:\n",
    "            print(f\"Skipping annotation for item '{item_name}' with unsupported type.\")\n",
    "            continue\n",
    "\n",
    "        print(f\"Successfully got the annotations for {item_name}:\\nDetails are as below:\\n Label Name: {label_name}\\nConfidence: {confidence}\\n\\\n",
    "              Annotation Type: {annotation_type}\\nAnnotation Info: {annotation_info}\\n\\n\")\n",
    "        \n",
    "        \n",
    "        item = dataset.items.get(filepath='/'+item_name) # https://console.dataloop.ai/projects/d66a0a1e-9d95-4746-87da-0a0a05958b72/datasets/6503e721485fae2c61d4ef57/items/6503e729e3cf617e9ae79bc2\n",
    "        \n",
    "        # try:\n",
    "        #     item = dataset.items.get(filepath=dataset_name+'/'+item_name) # https://console.dataloop.ai/projects/d66a0a1e-9d95-4746-87da-0a0a05958b72/datasets/6503e721485fae2c61d4ef57/items/6503e729e3cf617e9ae79bc2\n",
    "        # except:\n",
    "        #     print(f\"Item {item_name} Not Found...\")\n",
    "\n",
    "        if annotation_type == \"box\":\n",
    "            annotation_definition = dl.Box(top=annotation_info[0]['y'],\n",
    "                                            left=annotation_info[0]['x'],\n",
    "                                            bottom=annotation_info[1]['y'],\n",
    "                                            right=annotation_info[1]['x'],\n",
    "                                            label=label_name)\n",
    "        elif annotation_type == \"point\":\n",
    "            annotation_definition = dl.Point(x=annotation_info['x'],\n",
    "                                              y=annotation_info['y'],\n",
    "                                              label=label_name)\n",
    "        elif annotation_type == \"polygon\":\n",
    "            points = [(point[0]['x'], point[1]['y']) for point in annotation_info]\n",
    "            annotation_definition = dl.Polygon(geo=points, label=label_name)\n",
    "\n",
    "        builder = item.annotations.builder()\n",
    "        builder.add(annotation_definition=annotation_definition)\n",
    "        item.annotations.upload(builder)\n",
    "\n",
    "    print(\"Annotations added, moving to the next one\")\n",
    "    print(\"Checking the plot\")\n",
    "    import matplotlib.pyplot as plt\n",
    "    plt.figure()\n",
    "    plt.imshow(builder.show())\n",
    "    for annotation in builder:\n",
    "        plt.figure()\n",
    "        plt.imshow(annotation.show())\n",
    "        plt.title(annotation.label)\n",
    "\n",
    "print(f\"Annotations uploaded successfully!\\n{'--'*20}\")\n"
   ]
  },
  {
   "cell_type": "markdown",
   "metadata": {},
   "source": [
    "## Testing by printing all the annotations infor and item.print() detials"
   ]
  },
  {
   "cell_type": "code",
   "execution_count": 17,
   "metadata": {},
   "outputs": [
    {
     "name": "stdout",
     "output_type": "stream",
     "text": [
      "Iterate Entity:  33%|█████████▋                   | 1/3 [00:00<00:00,  3.14it/s]Box Annotation - ID: 65040fd3bc37d1b67ac9b641, Label: 2, Position: (149.18225016336004, 115.85979769120996) to (201.38132392263813, 201.75386042385915)\n",
      "Iterate Entity:  67%|███████████████████▎         | 2/3 [00:00<00:00,  2.75it/s]Point Annotation - ID: 65040fd47deda264eaf78bdb, Label: top, Position: (173.6123972734067, 201.27956683881678)\n",
      "Point Annotation - ID: 65040fd55fa84b10f4890bb0, Label: bottom, Position: (123.74583031836863, 162.94832356737442)\n",
      "Iterate Entity: 100%|█████████████████████████████| 3/3 [00:01<00:00,  2.97it/s]Box Annotation - ID: 65040fd05fa84bede2890ba6, Label: 1, Position: (149.18225016336004, 115.85979769120996) to (201.38132392263813, 201.75386042385915)\n",
      "Point Annotation - ID: 65040fd1bc37d13f36c9b63c, Label: top, Position: (174.66143334966824, 116.00264757387058)\n",
      "Point Annotation - ID: 65040fd1bc37d1e533c9b637, Label: bottom, Position: (173.6123972734067, 201.27956683881678)\n",
      "Polygon Annotation - ID: 65040fd22f4f9c54f89b96aa, Label: 1, Points: [[172 117]]\n",
      "Iterate Entity: 100%|█████████████████████████████| 3/3 [00:01<00:00,  2.26it/s]\n"
     ]
    }
   ],
   "source": [
    "# item = dataset.items.get(filepath='/'+item_name)\n",
    "# print(item.annotations.show(image='np_array'))\n",
    "\n",
    "# Iterate through all items in the dataset\n",
    "for item in dataset.items.list().all():\n",
    "#     print(f\"Item Name: {item.name}, Item ID: {item.id}\")\n",
    "    \n",
    "    annotations = item.annotations.list()\n",
    "    for annotation in annotations:\n",
    "        if annotation.type == dl.AnnotationType.POINT:\n",
    "            # Handle point annotations\n",
    "            print(f\"Point Annotation - ID: {annotation.id}, Label: {annotation.label}, Position: ({annotation.x}, {annotation.y})\")\n",
    "        elif annotation.type == dl.AnnotationType.BOX:\n",
    "            # Handle box annotations\n",
    "            print(f\"Box Annotation - ID: {annotation.id}, Label: {annotation.label}, Position: ({annotation.left}, {annotation.top}) to ({annotation.right}, {annotation.bottom})\")\n",
    "        elif annotation.type == dl.AnnotationType.POLYGON:\n",
    "            # Handle polygon annotations\n",
    "            print(f\"Polygon Annotation - ID: {annotation.id}, Label: {annotation.label}, Points: {annotation.geo}\")"
   ]
  },
  {
   "cell_type": "markdown",
   "metadata": {},
   "source": [
    "# Step 7: Query and print image items labeled as \"top\""
   ]
  },
  {
   "cell_type": "code",
   "execution_count": 18,
   "metadata": {
    "scrolled": false
   },
   "outputs": [
    {
     "name": "stdout",
     "output_type": "stream",
     "text": [
      "Querying and printing image items labeled as 'top':\n",
      "\n",
      "Iterate Entity:  33%|█████████▋                   | 1/3 [00:00<00:01,  1.92it/s]\n",
      "\n",
      "Top Annotation - ID:\n",
      " 65040fd22f4f9c54f89b96aa, \n",
      "Label: 1, \n",
      "Position: ([172], [117])\n",
      "Iterate Entity:  67%|███████████████████▎         | 2/3 [00:00<00:00,  2.59it/s]\n",
      "\n",
      "Top Annotation - ID:\n",
      " 65040fd22f4f9c54f89b96aa, \n",
      "Label: 1, \n",
      "Position: ([172], [117])\n",
      "Iterate Entity: 100%|█████████████████████████████| 3/3 [00:01<00:00,  2.86it/s]\n",
      "\n",
      "Top Annotation - ID:\n",
      " 65040fd22f4f9c54f89b96aa, \n",
      "Label: 1, \n",
      "Position: ([172], [117])\n",
      "Iterate Entity: 100%|█████████████████████████████| 3/3 [00:01<00:00,  2.10it/s]\n"
     ]
    }
   ],
   "source": [
    "\n",
    "# # Step 7: Query and print image items labeled as \"top\"\n",
    "\n",
    "print(\"Querying and printing image items labeled as 'top':\\n\")\n",
    "filter_query = dl.Filters().add(field=\"label\", values=\"top\")\n",
    "for item in dataset.items.list(filters=filter_query).all():\n",
    "    annotations = item.annotations.list()\n",
    "#     item.print(columns=['filename'])\n",
    "    print(f\"\\n\\nTop Annotation - ID:\\n {annotation.id}, \\nLabel: {annotation.label}, \\nPosition: ({annotation.x}, {annotation.y})\")"
   ]
  },
  {
   "cell_type": "markdown",
   "metadata": {},
   "source": [
    "# Step 8: Query and print all point annotations"
   ]
  },
  {
   "cell_type": "code",
   "execution_count": 19,
   "metadata": {},
   "outputs": [
    {
     "name": "stdout",
     "output_type": "stream",
     "text": [
      "\n",
      "Querying and printing all point annotations:\n",
      "Iterate Entity:  67%|███████████████████▎         | 2/3 [00:00<00:00,  3.94it/s]\n",
      "\n",
      "Point Annotation - ID:\n",
      " 65040fd47deda264eaf78bdb, \n",
      "Label: top, \n",
      "Position: (173.6123972734067, 201.27956683881678)\n",
      "\n",
      "\n",
      "Point Annotation - ID:\n",
      " 65040fd55fa84b10f4890bb0, \n",
      "Label: bottom, \n",
      "Position: (123.74583031836863, 162.94832356737442)\n",
      "Iterate Entity: 100%|█████████████████████████████| 3/3 [00:00<00:00,  3.59it/s]\n",
      "\n",
      "Point Annotation - ID:\n",
      " 65040fd1bc37d13f36c9b63c, \n",
      "Label: top, \n",
      "Position: (174.66143334966824, 116.00264757387058)\n",
      "\n",
      "\n",
      "Point Annotation - ID:\n",
      " 65040fd1bc37d1e533c9b637, \n",
      "Label: bottom, \n",
      "Position: (173.6123972734067, 201.27956683881678)\n",
      "Iterate Entity: 100%|█████████████████████████████| 3/3 [00:01<00:00,  2.10it/s]\n"
     ]
    }
   ],
   "source": [
    "# # Step 8: Query and print all point annotations\n",
    "print(\"\\nQuerying and printing all point annotations:\")\n",
    "\n",
    "# Iterate through all items in the dataset\n",
    "for item in dataset.items.list().all():\n",
    "#     print(f\"Item Name: {item.name}, Item ID: {item.id}\")\n",
    "    \n",
    "    annotations = item.annotations.list()\n",
    "    for annotation in annotations:\n",
    "        if annotation.type == dl.AnnotationType.POINT:\n",
    "            # Handle point annotations\n",
    "            print(f\"\\n\\nPoint Annotation - ID:\\n {annotation.id}, \\nLabel: {annotation.label}, \\nPosition: ({annotation.x}, {annotation.y})\")"
   ]
  },
  {
   "cell_type": "markdown",
   "metadata": {},
   "source": [
    "# Step 9: Logout from Dataloop"
   ]
  },
  {
   "cell_type": "code",
   "execution_count": 20,
   "metadata": {},
   "outputs": [
    {
     "name": "stdout",
     "output_type": "stream",
     "text": [
      "\n",
      "Logged out from Dataloop.\n"
     ]
    }
   ],
   "source": [
    "# Step 9: Logout from Dataloop\n",
    "dl.logout()\n",
    "print(\"\\nLogged out from Dataloop.\")"
   ]
  },
  {
   "cell_type": "code",
   "execution_count": null,
   "metadata": {},
   "outputs": [],
   "source": []
  },
  {
   "cell_type": "code",
   "execution_count": null,
   "metadata": {},
   "outputs": [],
   "source": []
  }
 ],
 "metadata": {
  "kernelspec": {
   "display_name": "Python 3 (ipykernel)",
   "language": "python",
   "name": "python3"
  },
  "language_info": {
   "codemirror_mode": {
    "name": "ipython",
    "version": 3
   },
   "file_extension": ".py",
   "mimetype": "text/x-python",
   "name": "python",
   "nbconvert_exporter": "python",
   "pygments_lexer": "ipython3",
   "version": "3.10.12"
  }
 },
 "nbformat": 4,
 "nbformat_minor": 2
}
